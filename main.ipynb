{
 "cells": [
  {
   "cell_type": "markdown",
   "id": "be7391da",
   "metadata": {},
   "source": [
    "# Pattern Matching Algorithm Speed Comparison in Jupyter Notebook"
   ]
  },
  {
   "cell_type": "markdown",
   "id": "6d7bda41",
   "metadata": {},
   "source": [
    "## 1. Introduction and problem description\n",
    "In this project, we compare the performance of three string pattern-matching algorithms: \n",
    "1. Brute-force\n",
    "2. Knuth-Morris-Pratt (KMP)\n",
    "3. Boyer-Moore\n",
    "\n",
    "These algorithms are fundamental in string searching tasks and are used in many applications including text editors, search engines, and DNA sequence analysis.\n",
    "Our goal is to experimentally analyze their relative performance by measuring the time each takes to find patterns of various lengths in large text documents."
   ]
  },
  {
   "cell_type": "markdown",
   "id": "ef31bd6d",
   "metadata": {},
   "source": [
    "## 2. Description of the 3 algorithms and how they work\n",
    "\n",
    "### I. Brute-force\n",
    "Brute Force algorithm is a straightforward algorithmic approach that systematically explores all possible solutions to a problem until the correct one is found. It is often used when the problem space is small or when no optimized solution is available. This method is simple to implement but can be computationally expensive for larger problems due to its exhaustive nature.\n",
    "\n",
    "#### Key Characteristics\n",
    "Brute Force Search involves methodically testing every possible solution in a specified order. It does not use optimization techniques or heuristics, relying solely on exhaustive exploration. This makes it a generic approach applicable to various domains, such as string matching, combinatorial problems, and cybersecurity.\n",
    "\n",
    "For example, in string search, the algorithm compares a substring against every possible position in the target string until a match is found. Similarly, in combinatorial problems, it tests all combinations of elements to find the desired result.\n"
   ]
  },
  {
   "cell_type": "code",
   "execution_count": 2,
   "id": "81763266",
   "metadata": {},
   "outputs": [],
   "source": [
    "def brute_force_search(text, pattern):\n",
    "    n = len(text)\n",
    "    m = len(pattern)\n",
    "\n",
    "    for i in range(n - m + 1): # Iterate through all possible starting positions\n",
    "        match = True\n",
    "        for j in range(m): # Compare each character of the pattern\n",
    "            if text[i + j] != pattern[j]:\n",
    "                match = False\n",
    "                break\n",
    "            if match:\n",
    "                return i # Return the starting index of the match\n",
    "    return -1 # Return -1 if no match is found\n"
   ]
  },
  {
   "cell_type": "markdown",
   "id": "ba94efd6",
   "metadata": {},
   "source": [
    "### II. Knuth-Morris-Pratt (KMP)\n",
    "The Knuth-Morris-Pratt (KMP) algorithm is a string-searching algorithm that efficiently searches for occurrences of a \"pattern\" within a \"text\" by utilizing the information from previous matches to avoid unnecessary comparisons. This algorithm was developed by Donald Knuth, Vaughan Pratt, and James H. Morris.\n",
    "\n",
    "#### Key Principles\n",
    "The KMP algorithm preprocesses the pattern to create an auxiliary array called the Longest Prefix Suffix (LPS) array. This array helps in determining the next positions to match after a mismatch, thus avoiding redundant comparisons.\n",
    "\n",
    "##### Preprocessing the Pattern\n",
    "The LPS array is constructed to store the length of the longest proper prefix which is also a suffix for each sub-pattern of the given pattern. This preprocessing step ensures that the algorithm can skip certain comparisons during the search phase."
   ]
  },
  {
   "cell_type": "code",
   "execution_count": null,
   "id": "11d522ee",
   "metadata": {},
   "outputs": [],
   "source": [
    "def computeLPSArray(pattern):\n",
    "    \"\"\"\n",
    "    Computes the Longest Prefix Suffix (LPS) array for the given pattern.\n",
    "    The LPS array is used in the KMP algorithm to skip unnecessary comparisons.\n",
    "    \"\"\"\n",
    "    M = len(pattern)\n",
    "    lps = [0] * M  # Initialize LPS array\n",
    "    length = 0     # Length of the previous longest prefix suffix\n",
    "    i = 1\n",
    "    while i < M:\n",
    "        if pattern[i] == pattern[length]:\n",
    "            length += 1\n",
    "            lps[i] = length\n",
    "            i += 1\n",
    "        else:\n",
    "            if length != 0:\n",
    "                length = lps[length - 1]  # Use previous LPS value\n",
    "            else:\n",
    "                lps[i] = 0\n",
    "                i += 1\n",
    "    return lps"
   ]
  },
  {
   "cell_type": "markdown",
   "id": "a98d4f9e",
   "metadata": {},
   "source": [
    "##### Searching the Pattern\n",
    "\n",
    "Once the LPS array is ready, the KMP algorithm uses it to search the pattern in the text. The algorithm compares characters of the pattern with the text and uses the LPS array to skip unnecessary comparisons when a mismatch occurs"
   ]
  },
  {
   "cell_type": "code",
   "execution_count": null,
   "id": "ef0d02c8",
   "metadata": {},
   "outputs": [],
   "source": [
    "def KMPSearch(pattern, text):\n",
    "    \"\"\"\n",
    "    Searches for occurrences of 'pat' in 'text' using the KMP algorithm.\n",
    "    Returns a list of starting indices where 'pat' is found in 'text'.\n",
    "    \"\"\"\n",
    "    M = len(pattern)\n",
    "    N = len(text)\n",
    "    lps = computeLPSArray(pattern)  # Preprocess the pattern to get the LPS array\n",
    "    i = 0  # index for text\n",
    "    j = 0  # index for pattern\n",
    "    result = []\n",
    "    while i < N:\n",
    "        if pattern[j] == text[i]:\n",
    "            i += 1\n",
    "            j += 1\n",
    "        if j == M:\n",
    "            result.append(i - j)  # Pattern found, append starting index\n",
    "            j = lps[j - 1]       # Continue to search for next possible match\n",
    "        elif i < N and pattern[j] != text[i]:\n",
    "            if j != 0:\n",
    "                j = lps[j - 1]   # Use LPS to avoid unnecessary comparisons\n",
    "            else:\n",
    "                i += 1           # Move to the next character in text\n",
    "    return result"
   ]
  },
  {
   "cell_type": "markdown",
   "id": "2ea92ad6",
   "metadata": {},
   "source": [
    "### III. Boyer-Moore\n",
    "\n",
    "The Boyer-Moore algorithm is a highly efficient string-searching algorithm, especially effective when the pattern is much shorter than the text. Unlike naive approaches, Boyer-Moore skips sections of the text, often resulting in faster searches.\n",
    "\n",
    "#### Key Concepts\n",
    "\n",
    "- **Right-to-Left Matching:** The algorithm compares the pattern to the text from right to left.\n",
    "- **Bad Character Rule:** On a mismatch, the pattern is shifted so that the mismatched character in the text aligns with its last occurrence in the pattern. If the character is not present in the pattern, the pattern is shifted past the mismatched character.\n",
    "- **Good Suffix Rule:** If a mismatch occurs after matching a suffix, the pattern is shifted to align the next occurrence of this suffix (or a matching prefix) in the pattern.\n",
    "\n",
    "#### Steps of the Algorithm\n",
    "\n",
    "1. Preprocess the pattern to create:\n",
    "    - A bad character table.\n",
    "    - A good suffix table.\n",
    "2. Start comparing the pattern with the text from the rightmost character.\n",
    "3. Use the heuristics to determine the shift after a mismatch.\n",
    "4. Repeat until the pattern is found or the text is fully scanned."
   ]
  },
  {
   "cell_type": "code",
   "execution_count": 5,
   "id": "c579bf9f",
   "metadata": {},
   "outputs": [],
   "source": [
    "def boyer_moore(text, pattern):\n",
    "    # Preprocess the pattern for the bad character rule\n",
    "    def preprocess_bad_character(pattern):\n",
    "        bad_char_table = {}\n",
    "        for i, char in enumerate(pattern):\n",
    "            bad_char_table[char] = i  # Store the last occurrence of each character\n",
    "        return bad_char_table\n",
    "\n",
    "    # Preprocess the pattern for the good suffix rule\n",
    "    def preprocess_good_suffix(pattern):\n",
    "        m = len(pattern)\n",
    "        good_suffix_table = [0] * m\n",
    "        border_pos = [0] * (m + 1)\n",
    "        i, j = m, m + 1\n",
    "        border_pos[i] = j\n",
    "\n",
    "        # Build border positions\n",
    "        while i > 0:\n",
    "            while j <= m and pattern[i - 1] != pattern[j - 1]:\n",
    "                if good_suffix_table[j] == 0:\n",
    "                    good_suffix_table[j] = j - i\n",
    "                j = border_pos[j]\n",
    "            i -= 1\n",
    "            j -= 1\n",
    "            border_pos[i] = j\n",
    "\n",
    "        # Build good suffix table\n",
    "        j = border_pos[0]\n",
    "        for i in range(m + 1):\n",
    "            if good_suffix_table[i] == 0:\n",
    "                good_suffix_table[i] = j\n",
    "            if i == j:\n",
    "                j = border_pos[j]\n",
    "\n",
    "        return good_suffix_table\n",
    "\n",
    "    bad_char_table = preprocess_bad_character(pattern)\n",
    "    good_suffix_table = preprocess_good_suffix(pattern)\n",
    "\n",
    "    n, m = len(text), len(pattern)\n",
    "    s = 0  # s is the shift of the pattern with respect to text\n",
    "\n",
    "    while s <= n - m:\n",
    "        j = m - 1\n",
    "        # Compare pattern from right to left\n",
    "        while j >= 0 and pattern[j] == text[s + j]:\n",
    "            j -= 1\n",
    "        if j < 0:\n",
    "            print(f\"Pattern found at index {s}\")\n",
    "            # Shift pattern according to good suffix rule\n",
    "            s += good_suffix_table[0] if s + m < n else 1\n",
    "        else:\n",
    "            # Calculate shifts for bad character and good suffix rules\n",
    "            bad_char_shift = j - bad_char_table.get(text[s + j], -1)\n",
    "            good_suffix_shift = good_suffix_table[j + 1]\n",
    "            s += max(bad_char_shift, good_suffix_shift)\n"
   ]
  }
 ],
 "metadata": {
  "kernelspec": {
   "display_name": "Python 3",
   "language": "python",
   "name": "python3"
  },
  "language_info": {
   "codemirror_mode": {
    "name": "ipython",
    "version": 3
   },
   "file_extension": ".py",
   "mimetype": "text/x-python",
   "name": "python",
   "nbconvert_exporter": "python",
   "pygments_lexer": "ipython3",
   "version": "3.13.3"
  }
 },
 "nbformat": 4,
 "nbformat_minor": 5
}
