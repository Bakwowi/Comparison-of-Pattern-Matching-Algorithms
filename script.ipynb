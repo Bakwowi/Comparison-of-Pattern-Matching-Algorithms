{
 "cells": [
  {
   "cell_type": "markdown",
   "id": "be7391da",
   "metadata": {},
   "source": [
    "# Pattern Matching Algorithm Speed Comparison in Jupyter Notebook"
   ]
  },
  {
   "cell_type": "markdown",
   "id": "6d7bda41",
   "metadata": {},
   "source": [
    "## 1. Introduction and problem description\n",
    "In this project, we compare the performance of three string pattern-matching algorithms: \n",
    "1. Brute-force\n",
    "2. Knuth-Morris-Pratt (KMP)\n",
    "3. Boyer-Moore\n",
    "\n",
    "These algorithms are fundamental in string searching tasks and are used in many applications including text editors, search engines, and DNA sequence analysis.\n",
    "Our goal is to experimentally analyze their relative performance by measuring the time each takes to find patterns of various lengths in large text documents."
   ]
  },
  {
   "cell_type": "markdown",
   "id": "ef31bd6d",
   "metadata": {},
   "source": [
    "## 2. Description of the 3 algorithms and how they work\n",
    "\n",
    "### I. Brute-force\n",
    "Brute Force algorithm is a straightforward algorithmic approach that systematically explores all possible solutions to a problem until the correct one is found. It is often used when the problem space is small or when no optimized solution is available. This method is simple to implement but can be computationally expensive for larger problems due to its exhaustive nature.\n",
    "\n",
    "#### Key Characteristics\n",
    "Brute Force Search involves methodically testing every possible solution in a specified order. It does not use optimization techniques or heuristics, relying solely on exhaustive exploration. This makes it a generic approach applicable to various domains, such as string matching, combinatorial problems, and cybersecurity.\n",
    "\n",
    "For example, in string search, the algorithm compares a substring against every possible position in the target string until a match is found. Similarly, in combinatorial problems, it tests all combinations of elements to find the desired result.\n"
   ]
  },
  {
   "cell_type": "code",
   "execution_count": null,
   "id": "81763266",
   "metadata": {},
   "outputs": [],
   "source": [
    "def brute_force(text, pattern):\n",
    "    n = len(text)\n",
    "    m = len(pattern)\n",
    "\n",
    "    for i in range(n - m + 1): # Iterate through all possible starting positions\n",
    "        match = True\n",
    "        for j in range(m): # Compare each character of the pattern\n",
    "            if text[i + j] != pattern[j]:\n",
    "                match = False\n",
    "                break\n",
    "            if match:\n",
    "                return i # Return the starting index of the match\n",
    "    return -1 # Return -1 if no match is found\n"
   ]
  },
  {
   "cell_type": "markdown",
   "id": "ba94efd6",
   "metadata": {},
   "source": [
    "### II. Knuth-Morris-Pratt (KMP)\n",
    "\n",
    "The Knuth-Morris-Pratt (KMP) algorithm is an efficient string-searching method that finds all occurrences of a \"pattern\" within a \"text\" by avoiding unnecessary re-examinations of characters. Developed by Donald Knuth, Vaughan Pratt, and James H. Morris, KMP improves search speed by using information gathered during the pattern preprocessing phase.\n",
    "\n",
    "#### Key Principles\n",
    "\n",
    "KMP preprocesses the pattern to build an auxiliary array called the Longest Prefix Suffix (LPS) array. The LPS array indicates the longest proper prefix of the pattern that is also a suffix for each sub-pattern. This allows the algorithm to skip certain comparisons when a mismatch occurs, leading to improved performance over naive approaches.\n",
    "\n",
    "##### Preprocessing the Pattern\n",
    "\n",
    "The LPS array is constructed for the pattern before the search begins. For each position in the pattern, it stores the length of the longest prefix that matches a suffix ending at that position. This preprocessing step enables the KMP algorithm to efficiently determine how far to shift the pattern after a mismatch, minimizing redundant comparisons during the search phase."
   ]
  },
  {
   "cell_type": "code",
   "execution_count": null,
   "id": "11d522ee",
   "metadata": {},
   "outputs": [],
   "source": [
    "def computeLPSArray(pattern):\n",
    "    \"\"\"\n",
    "    Computes the Longest Prefix Suffix (LPS) array for the given pattern.\n",
    "    The LPS array is used in the KMP algorithm to skip unnecessary comparisons.\n",
    "    \"\"\"\n",
    "    M = len(pattern)\n",
    "    lps = [0] * M  # Initialize LPS array\n",
    "    length = 0     # Length of the previous longest prefix suffix\n",
    "    i = 1\n",
    "    while i < M:\n",
    "        if pattern[i] == pattern[length]:\n",
    "            length += 1\n",
    "            lps[i] = length\n",
    "            i += 1\n",
    "        else:\n",
    "            if length != 0:\n",
    "                length = lps[length - 1]  # Use previous LPS value\n",
    "            else:\n",
    "                lps[i] = 0\n",
    "                i += 1\n",
    "    return lps"
   ]
  },
  {
   "cell_type": "markdown",
   "id": "a98d4f9e",
   "metadata": {},
   "source": [
    "##### Searching the Pattern\n",
    "\n",
    "Once the LPS array is ready, the KMP algorithm uses it to search the pattern in the text. The algorithm compares characters of the pattern with the text and uses the LPS array to skip unnecessary comparisons when a mismatch occurs"
   ]
  },
  {
   "cell_type": "code",
   "execution_count": null,
   "id": "ef0d02c8",
   "metadata": {},
   "outputs": [],
   "source": [
    "def KMPSearch(pattern, text):\n",
    "    \"\"\"\n",
    "    Searches for occurrences of 'pattern' in 'text' using the KMP algorithm.\n",
    "    Returns a list of starting indices where 'pattern' is found in 'text'.\n",
    "    \"\"\"\n",
    "    M = len(pattern)\n",
    "    N = len(text)\n",
    "    lps = computeLPSArray(pattern)  # Preprocess the pattern to get the LPS array\n",
    "    i = 0  # index for text\n",
    "    j = 0  # index for pattern\n",
    "    result = []\n",
    "    while i < N:\n",
    "        if pattern[j] == text[i]:\n",
    "            i += 1\n",
    "            j += 1\n",
    "        if j == M:\n",
    "            result.append(i - j)  # Pattern found, append starting index\n",
    "            j = lps[j - 1]       # Continue to search for next possible match\n",
    "        elif i < N and pattern[j] != text[i]:\n",
    "            if j != 0:\n",
    "                j = lps[j - 1]   # Use LPS to avoid unnecessary comparisons\n",
    "            else:\n",
    "                i += 1           # Move to the next character in text\n",
    "    return result"
   ]
  },
  {
   "cell_type": "markdown",
   "id": "2ea92ad6",
   "metadata": {},
   "source": [
    "### III. Boyer-Moore\n",
    "\n",
    "The Boyer-Moore algorithm is a highly efficient string-searching algorithm, especially effective when the pattern is much shorter than the text. Unlike naive approaches, Boyer-Moore skips sections of the text, often resulting in faster searches.\n",
    "\n",
    "#### Key Concepts\n",
    "\n",
    "- **Right-to-Left Matching:** The algorithm compares the pattern to the text from right to left.\n",
    "- **Bad Character Rule:** On a mismatch, the pattern is shifted so that the mismatched character in the text aligns with its last occurrence in the pattern. If the character is not present in the pattern, the pattern is shifted past the mismatched character.\n",
    "- **Good Suffix Rule:** If a mismatch occurs after matching a suffix, the pattern is shifted to align the next occurrence of this suffix (or a matching prefix) in the pattern.\n",
    "\n",
    "#### Steps of the Algorithm\n",
    "\n",
    "1. Preprocess the pattern to create:\n",
    "    - A bad character table.\n",
    "    - A good suffix table.\n",
    "2. Start comparing the pattern with the text from the rightmost character.\n",
    "3. Use the heuristics to determine the shift after a mismatch.\n",
    "4. Repeat until the pattern is found or the text is fully scanned."
   ]
  },
  {
   "cell_type": "code",
   "execution_count": null,
   "id": "c579bf9f",
   "metadata": {},
   "outputs": [],
   "source": [
    "def boyer_moore(text, pattern):\n",
    "    # Preprocess the pattern for the bad character rule\n",
    "    def preprocess_bad_character(pattern):\n",
    "        bad_char_table = {}\n",
    "        for i, char in enumerate(pattern):\n",
    "            bad_char_table[char] = i  # Store the last occurrence of each character\n",
    "        return bad_char_table\n",
    "\n",
    "    # Preprocess the pattern for the good suffix rule (basic version)\n",
    "    def preprocess_good_suffix(pattern):\n",
    "        m = len(pattern)\n",
    "        good_suffix_table = [0] * (m + 1)\n",
    "        border_pos = [0] * (m + 1)\n",
    "        i, j = m, m + 1\n",
    "        border_pos[i] = j\n",
    "\n",
    "        while i > 0:\n",
    "            while j <= m and pattern[i - 1] != pattern[j - 1 if j - 1 < m else 0]:\n",
    "                if good_suffix_table[j] == 0:\n",
    "                    good_suffix_table[j] = j - i\n",
    "                j = border_pos[j]\n",
    "            i -= 1\n",
    "            j -= 1\n",
    "            border_pos[i] = j\n",
    "\n",
    "        j = border_pos[0]\n",
    "        for i in range(m + 1):\n",
    "            if good_suffix_table[i] == 0:\n",
    "                good_suffix_table[i] = j\n",
    "            if i == j:\n",
    "                j = border_pos[j]\n",
    "\n",
    "        return good_suffix_table\n",
    "\n",
    "    bad_char_table = preprocess_bad_character(pattern)\n",
    "    good_suffix_table = preprocess_good_suffix(pattern)\n",
    "\n",
    "    n, m = len(text), len(pattern)\n",
    "    s = 0  # s is the shift of the pattern with respect to text\n",
    "\n",
    "    while s <= n - m:\n",
    "        j = m - 1\n",
    "        # Compare pattern from right to left\n",
    "        while j >= 0 and pattern[j] == text[s + j]:\n",
    "            j -= 1\n",
    "        if j < 0:\n",
    "            print(f\"Pattern found at index {s}\")\n",
    "            s += good_suffix_table[0] if s + m < n else 1\n",
    "        else:\n",
    "            bad_char_shift = j - bad_char_table.get(text[s + j], -1)\n",
    "            good_suffix_shift = good_suffix_table[j + 1]\n",
    "            s += max(bad_char_shift, good_suffix_shift)\n"
   ]
  },
  {
   "cell_type": "markdown",
   "id": "114ff8bc",
   "metadata": {},
   "source": [
    "## 3. Description of the text document used for testing\n",
    "\n",
    "We use several large text documents for our experiments:\n",
    "\n",
    "- **Project Gutenberg books** (e.g., *Pride and Prejudice*, *Moby Dick*)\n",
    "- **Synthetic large text** generated by repeating characters or words\n",
    "\n",
    "Each document is preloaded and stored as a string in memory.  \n",
    "Patterns are chosen to vary in length (short: 5 chars, medium: 20 chars, long: 100+ chars).\n",
    "\n",
    "You can upload or download text from Project Gutenberg and load them like this:"
   ]
  },
  {
   "cell_type": "code",
   "execution_count": null,
   "id": "cd2dfa73",
   "metadata": {},
   "outputs": [],
   "source": [
    "with open(\"moby_dick.txt\", \"r\", encoding=\"utf-8\") as file:\n",
    "    text = file.read()\n"
   ]
  },
  {
   "cell_type": "markdown",
   "id": "2a47d123",
   "metadata": {},
   "source": [
    "## 4. Experimental results\n",
    "\n",
    "Use Python’s time module to record runtimes:"
   ]
  },
  {
   "cell_type": "code",
   "execution_count": null,
   "id": "05b35165",
   "metadata": {},
   "outputs": [],
   "source": [
    "import time\n",
    "\n",
    "def measure_time(algorithm, text, pattern):\n",
    "    start = time.perf_counter()\n",
    "    result = algorithm(text, pattern)\n",
    "    end = time.perf_counter()\n",
    "    return end - start, result\n"
   ]
  },
  {
   "cell_type": "markdown",
   "id": "602edafb",
   "metadata": {},
   "source": [
    "Run tests:"
   ]
  },
  {
   "cell_type": "code",
   "execution_count": null,
   "id": "76ee60ee",
   "metadata": {},
   "outputs": [],
   "source": [
    "patterns = [\"whale\", \"Call me Ishmael.\", \"ZZZUNLIKELYPATTERNZZZ\", \"Captain Ahab stood upon the quarter-deck\", \"the white whale\"]\n",
    "results = []\n",
    "\n",
    "for pattern in patterns:\n",
    "    row = {\n",
    "        \"Pattern\": pattern,\n",
    "        \"Brute-force\": measure_time(brute_force, text, pattern)[0],\n",
    "        \"KMP\": measure_time(KMPSearch, text, pattern)[0],\n",
    "        \"Boyer-Moore\": measure_time(boyer_moore, text, pattern)[0]\n",
    "    }\n",
    "    results.append(row)\n",
    "\n",
    "df = pd.DataFrame(results)\n",
    "print(df)\n"
   ]
  },
  {
   "cell_type": "markdown",
   "id": "9a08ee3f",
   "metadata": {},
   "source": [
    "Visualizing the results with matplotlib"
   ]
  },
  {
   "cell_type": "code",
   "execution_count": null,
   "id": "e35f49dd",
   "metadata": {},
   "outputs": [],
   "source": [
    "import matplotlib.pyplot as plt\n",
    "\n",
    "df.set_index(\"Pattern\").plot(kind=\"bar\", figsize=(10,6))\n",
    "plt.ylabel(\"Time (seconds)\")\n",
    "plt.title(\"Comparison of Pattern Matching Algorithms\")\n",
    "plt.xticks(rotation=45)\n",
    "plt.tight_layout()\n",
    "plt.show()\n"
   ]
  },
  {
   "cell_type": "markdown",
   "id": "b88260fd",
   "metadata": {},
   "source": [
    "## 5. Conclusion and prospects\n",
    "\n",
    "The experiments confirm the following:\n",
    "\n",
    "- **Brute-force** is the slowest, especially for long texts and patterns.\n",
    "- **KMP** provides consistent performance due to its preprocessing step.\n",
    "- **Boyer-Moore** is generally the fastest for longer patterns, benefiting from heuristic-based skipping.\n",
    "\n",
    "**However**, While theory suggests that KMP and Boyer-Moore are more efficient than brute-force, we observed that brute-force was sometimes faster in practice. This is largely due to early matches in the text and the preprocessing overhead in KMP and Boyer-Moore. However, in harder scenarios—such as long patterns near the end or not present at all—the advanced algorithms clearly outperformed brute-force.\n",
    "\n",
    "**Future prospects:**\n",
    "\n",
    "- Implement a complete Boyer-Moore algorithm with an optimized good-suffix rule.\n",
    "- Test on real-world large datasets (e.g., system logs, DNA sequences).\n",
    "- Explore parallelized search or approximate matching techniques.\n"
   ]
  },
  {
   "cell_type": "markdown",
   "id": "a41bc49f",
   "metadata": {},
   "source": [
    "**By Bakwowi Junior**"
   ]
  }
 ],
 "metadata": {
  "kernelspec": {
   "display_name": "Python 3",
   "language": "python",
   "name": "python3"
  },
  "language_info": {
   "codemirror_mode": {
    "name": "ipython",
    "version": 3
   },
   "file_extension": ".py",
   "mimetype": "text/x-python",
   "name": "python",
   "nbconvert_exporter": "python",
   "pygments_lexer": "ipython3",
   "version": "3.13.3"
  }
 },
 "nbformat": 4,
 "nbformat_minor": 5
}
