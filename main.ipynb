{
 "cells": [
  {
   "cell_type": "markdown",
   "id": "be7391da",
   "metadata": {},
   "source": [
    "# Pattern Matching Algorithm Speed Comparison in Jupyter Notebook"
   ]
  },
  {
   "cell_type": "markdown",
   "id": "6d7bda41",
   "metadata": {},
   "source": [
    "## 1. Introduction and problem description\n",
    "In this project, we compare the performance of three string pattern-matching algorithms: \n",
    "1. Brute-force\n",
    "2. Knuth-Morris-Pratt (KMP)\n",
    "3. Boyer-Moore\n",
    "\n",
    "These algorithms are fundamental in string searching tasks and are used in many applications including text editors, search engines, and DNA sequence analysis.\n",
    "Our goal is to experimentally analyze their relative performance by measuring the time each takes to find patterns of various lengths in large text documents."
   ]
  }
 ],
 "metadata": {
  "kernelspec": {
   "display_name": "Python 3",
   "language": "python",
   "name": "python3"
  },
  "language_info": {
   "codemirror_mode": {
    "name": "ipython",
    "version": 3
   },
   "file_extension": ".py",
   "mimetype": "text/x-python",
   "name": "python",
   "nbconvert_exporter": "python",
   "pygments_lexer": "ipython3",
   "version": "3.13.3"
  }
 },
 "nbformat": 4,
 "nbformat_minor": 5
}
