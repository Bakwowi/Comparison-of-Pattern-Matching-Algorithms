{
 "cells": [
  {
   "cell_type": "markdown",
   "id": "be7391da",
   "metadata": {},
   "source": [
    "# Pattern Matching Algorithm Speed Comparison in Jupyter Notebook"
   ]
  },
  {
   "cell_type": "markdown",
   "id": "6d7bda41",
   "metadata": {},
   "source": [
    "## 1. Introduction and problem description\n",
    "In this project, we compare the performance of three string pattern-matching algorithms: \n",
    "1. Brute-force\n",
    "2. Knuth-Morris-Pratt (KMP)\n",
    "3. Boyer-Moore\n",
    "\n",
    "These algorithms are fundamental in string searching tasks and are used in many applications including text editors, search engines, and DNA sequence analysis.\n",
    "Our goal is to experimentally analyze their relative performance by measuring the time each takes to find patterns of various lengths in large text documents."
   ]
  },
  {
   "cell_type": "markdown",
   "id": "ef31bd6d",
   "metadata": {},
   "source": [
    "## 2. Description of the 3 algorithms and how they work\n",
    "\n",
    "### I. Brute-force\n",
    "Brute Force algorithm is a straightforward algorithmic approach that systematically explores all possible solutions to a problem until the correct one is found. It is often used when the problem space is small or when no optimized solution is available. This method is simple to implement but can be computationally expensive for larger problems due to its exhaustive nature.\n",
    "\n",
    "#### Key Characteristics\n",
    "Brute Force Search involves methodically testing every possible solution in a specified order. It does not use optimization techniques or heuristics, relying solely on exhaustive exploration. This makes it a generic approach applicable to various domains, such as string matching, combinatorial problems, and cybersecurity.\n",
    "\n",
    "For example, in string search, the algorithm compares a substring against every possible position in the target string until a match is found. Similarly, in combinatorial problems, it tests all combinations of elements to find the desired result.\n"
   ]
  },
  {
   "cell_type": "code",
   "execution_count": 2,
   "id": "81763266",
   "metadata": {},
   "outputs": [],
   "source": [
    "def brute_force_search(text, pattern):\n",
    "    n = len(text)\n",
    "    m = len(pattern)\n",
    "\n",
    "    for i in range(n - m + 1): # Iterate through all possible starting positions\n",
    "        match = True\n",
    "        for j in range(m): # Compare each character of the pattern\n",
    "            if text[i + j] != pattern[j]:\n",
    "                match = False\n",
    "                break\n",
    "            if match:\n",
    "                return i # Return the starting index of the match\n",
    "    return -1 # Return -1 if no match is found\n"
   ]
  },
  {
   "cell_type": "markdown",
   "id": "ba94efd6",
   "metadata": {},
   "source": [
    "### II. Knuth-Morris-Pratt (KMP)"
   ]
  }
 ],
 "metadata": {
  "kernelspec": {
   "display_name": "Python 3",
   "language": "python",
   "name": "python3"
  },
  "language_info": {
   "codemirror_mode": {
    "name": "ipython",
    "version": 3
   },
   "file_extension": ".py",
   "mimetype": "text/x-python",
   "name": "python",
   "nbconvert_exporter": "python",
   "pygments_lexer": "ipython3",
   "version": "3.13.3"
  }
 },
 "nbformat": 4,
 "nbformat_minor": 5
}
